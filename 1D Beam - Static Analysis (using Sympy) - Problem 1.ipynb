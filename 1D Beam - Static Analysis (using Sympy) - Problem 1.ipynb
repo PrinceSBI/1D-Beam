{
 "cells": [
  {
   "cell_type": "code",
   "execution_count": 1,
   "id": "71a25574",
   "metadata": {},
   "outputs": [],
   "source": [
    "import numpy as np\n",
    "from sympy import *\n",
    "from matplotlib import pyplot as plt"
   ]
  },
  {
   "cell_type": "markdown",
   "id": "a4e4ca8d",
   "metadata": {},
   "source": [
    "# 1D Beam Solution"
   ]
  },
  {
   "cell_type": "code",
   "execution_count": 2,
   "id": "c315a6df",
   "metadata": {},
   "outputs": [],
   "source": [
    "bc = 1  # constrain (or Boundary condition) at node 1\n",
    "E = 70000   # Youngs Modulus\n",
    "I = 300*40**3/12  # Area Moment of Inertia \n",
    "L = 1500  # Length of Bar\n",
    "F = 4000   # Force at the tip of Bar\n",
    "numElem = 30  # Number of Elements"
   ]
  },
  {
   "cell_type": "code",
   "execution_count": 3,
   "id": "5ffbb13b",
   "metadata": {},
   "outputs": [
    {
     "data": {
      "text/plain": [
       "[[1, 2],\n",
       " [2, 3],\n",
       " [3, 4],\n",
       " [4, 5],\n",
       " [5, 6],\n",
       " [6, 7],\n",
       " [7, 8],\n",
       " [8, 9],\n",
       " [9, 10],\n",
       " [10, 11],\n",
       " [11, 12],\n",
       " [12, 13],\n",
       " [13, 14],\n",
       " [14, 15],\n",
       " [15, 16],\n",
       " [16, 17],\n",
       " [17, 18],\n",
       " [18, 19],\n",
       " [19, 20],\n",
       " [20, 21],\n",
       " [21, 22],\n",
       " [22, 23],\n",
       " [23, 24],\n",
       " [24, 25],\n",
       " [25, 26],\n",
       " [26, 27],\n",
       " [27, 28],\n",
       " [28, 29],\n",
       " [29, 30],\n",
       " [30, 31]]"
      ]
     },
     "execution_count": 3,
     "metadata": {},
     "output_type": "execute_result"
    }
   ],
   "source": [
    "le = L/numElem\n",
    "\n",
    "elem = []\n",
    "for i in range(numElem):\n",
    "    elem.append([i+1,i+2])\n",
    "elem"
   ]
  },
  {
   "cell_type": "code",
   "execution_count": 4,
   "id": "9a5e2f05",
   "metadata": {},
   "outputs": [
    {
     "data": {
      "text/plain": [
       "(matrix([[1.59045414512598e-5*x**3 - 0.00119522231392681*x**2 + 1,\n",
       "          0.000398407437975605*x**3 - 0.0399202924826763*x**2 + 1.0*x,\n",
       "          -1.59045414512598e-5*x**3 + 0.00119522231392681*x**2,\n",
       "          0.000398407437975605*x**3 - 0.0199601462413381*x**2]],\n",
       "        dtype=object),\n",
       " matrix([[9.54272487075591e-5*x - 0.00239044462785363,\n",
       "          0.00239044462785363*x - 0.0798405849653525,\n",
       "          0.00239044462785363 - 9.54272487075591e-5*x,\n",
       "          0.00239044462785363*x - 0.0399202924826763]], dtype=object))"
      ]
     },
     "execution_count": 4,
     "metadata": {},
     "output_type": "execute_result"
    }
   ],
   "source": [
    "x = Symbol('x')\n",
    "Le = Symbol('Le')\n",
    "\n",
    "# Shape Function Matrix\n",
    "shape = np.matrix([\n",
    "    (2*(x/le)**3 - 3*(x/le)**2 + 1),\n",
    "    ((x/le)**3 - 2*(x/le)**2 + (x/le))*le,\n",
    "    (-2*(x/le)**3 + 3*(x/le)**2),\n",
    "    ((x/le)**3 - (x/le)**2)*le\n",
    "])\n",
    "\n",
    "# Differentiated Shape Function Matrix\n",
    "shape_d = []\n",
    "for i in range(shape.shape[1]):\n",
    "    shape_d.append(diff(diff(np.array(shape[0, i]).flatten()[0], x), x))\n",
    "\n",
    "shape = np.matrix(shape)\n",
    "shape_d = np.matrix(shape_d)\n",
    "\n",
    "shape, shape_d"
   ]
  },
  {
   "cell_type": "code",
   "execution_count": 5,
   "id": "70460b21",
   "metadata": {},
   "outputs": [
    {
     "data": {
      "text/plain": [
       "matrix([[Le*(3.03545326529811e-9*Le**2 - 2.28113554023837e-7*Le + 5.71422551883427e-6),\n",
       "         Le*(7.60378513412789e-8*Le**2 - 6.66659643863998e-6*Le + 0.000190854497415118),\n",
       "         Le*(-3.03545326529811e-9*Le**2 + 2.28113554023837e-7*Le - 5.71422551883427e-6),\n",
       "         Le*(7.60378513412789e-8*Le**2 - 4.76185459902856e-6*Le + 9.54272487075591e-5)],\n",
       "        [Le*(7.60378513412789e-8*Le**2 - 6.66659643863998e-6*Le + 0.000190854497415118),\n",
       "         Le*(1.90474183961142e-6*Le**2 - 0.000190854497415118*Le + 0.00637451900760968),\n",
       "         Le*(-7.60378513412789e-8*Le**2 + 6.66659643863998e-6*Le - 0.000190854497415118),\n",
       "         Le*(1.90474183961142e-6*Le**2 - 0.000143140873061339*Le + 0.00318725950380484)],\n",
       "        [Le*(-3.03545326529811e-9*Le**2 + 2.28113554023837e-7*Le - 5.71422551883427e-6),\n",
       "         Le*(-7.60378513412789e-8*Le**2 + 6.66659643863998e-6*Le - 0.000190854497415118),\n",
       "         Le*(3.03545326529811e-9*Le**2 - 2.28113554023837e-7*Le + 5.71422551883427e-6),\n",
       "         Le*(-7.60378513412789e-8*Le**2 + 4.76185459902856e-6*Le - 9.54272487075591e-5)],\n",
       "        [Le*(7.60378513412789e-8*Le**2 - 4.76185459902856e-6*Le + 9.54272487075591e-5),\n",
       "         Le*(1.90474183961142e-6*Le**2 - 0.000143140873061339*Le + 0.00318725950380484),\n",
       "         Le*(-7.60378513412789e-8*Le**2 + 4.76185459902856e-6*Le - 9.54272487075591e-5),\n",
       "         Le*(1.90474183961142e-6*Le**2 - 9.54272487075591e-5*Le + 0.00159362975190242)]],\n",
       "       dtype=object)"
      ]
     },
     "execution_count": 5,
     "metadata": {},
     "output_type": "execute_result"
    }
   ],
   "source": [
    "# Creating The Local Stiffness Matrix\n",
    "\n",
    "k = np.matmul(shape_d.T, shape_d)\n",
    "for i in range(k.shape[0]):\n",
    "    for j in range(k.shape[1]):\n",
    "        k[i,j] = simplify(integrate(k[i,j], x).subs(x, Le))\n",
    "k"
   ]
  },
  {
   "cell_type": "code",
   "execution_count": 6,
   "id": "a8f2e9d5",
   "metadata": {},
   "outputs": [],
   "source": [
    "K = np.zeros([2*len(elem)+2, 2*len(elem)+2])  # Creating initially zero matrix for global stiffness matrix\n",
    "\n",
    "for i in elem:\n",
    "    temp = k.copy()\n",
    "    for a in range(temp.shape[0]):\n",
    "        for j in range(temp.shape[1]):\n",
    "            temp[a,j] = temp[a,j].subs(Le, le)\n",
    "    K[2*i[0]-2:2*i[1], 2*i[0]-2:2*i[1]] = K[2*i[0]-2:2*i[1], 2*i[0]-2:2*i[1]] +  (E*I) * temp"
   ]
  },
  {
   "cell_type": "code",
   "execution_count": 7,
   "id": "8c44f2de",
   "metadata": {},
   "outputs": [],
   "source": [
    "def BC(K, bc):\n",
    "    newK = []\n",
    "    for i in range(len(K)):\n",
    "        temp = []\n",
    "        for j in range(len(K[0])):\n",
    "            if not(i==bc or j==bc or i==bc+1 or j==bc+1):\n",
    "                temp.append(K[i][j])\n",
    "        if temp != []:\n",
    "            newK.append(temp)\n",
    "    if newK != []:\n",
    "        return np.matrix(newK)\n",
    "    else:\n",
    "        return np.matrix(K)"
   ]
  },
  {
   "cell_type": "code",
   "execution_count": 8,
   "id": "2a76f369",
   "metadata": {},
   "outputs": [],
   "source": [
    "# Global Stiffness Matrix After Applying Boundary Conditions\n",
    "Kc = BC(K, bc-1)"
   ]
  },
  {
   "cell_type": "code",
   "execution_count": 9,
   "id": "876f72d3",
   "metadata": {},
   "outputs": [
    {
     "data": {
      "text/plain": [
       "array([[   0.],\n",
       "       [   0.],\n",
       "       [   0.],\n",
       "       [   0.],\n",
       "       [   0.],\n",
       "       [   0.],\n",
       "       [   0.],\n",
       "       [   0.],\n",
       "       [   0.],\n",
       "       [   0.],\n",
       "       [   0.],\n",
       "       [   0.],\n",
       "       [   0.],\n",
       "       [   0.],\n",
       "       [   0.],\n",
       "       [   0.],\n",
       "       [   0.],\n",
       "       [   0.],\n",
       "       [   0.],\n",
       "       [   0.],\n",
       "       [   0.],\n",
       "       [   0.],\n",
       "       [   0.],\n",
       "       [   0.],\n",
       "       [   0.],\n",
       "       [   0.],\n",
       "       [   0.],\n",
       "       [   0.],\n",
       "       [   0.],\n",
       "       [   0.],\n",
       "       [   0.],\n",
       "       [   0.],\n",
       "       [   0.],\n",
       "       [   0.],\n",
       "       [   0.],\n",
       "       [   0.],\n",
       "       [   0.],\n",
       "       [   0.],\n",
       "       [   0.],\n",
       "       [   0.],\n",
       "       [   0.],\n",
       "       [   0.],\n",
       "       [   0.],\n",
       "       [   0.],\n",
       "       [   0.],\n",
       "       [   0.],\n",
       "       [   0.],\n",
       "       [   0.],\n",
       "       [   0.],\n",
       "       [   0.],\n",
       "       [   0.],\n",
       "       [   0.],\n",
       "       [   0.],\n",
       "       [   0.],\n",
       "       [   0.],\n",
       "       [   0.],\n",
       "       [   0.],\n",
       "       [   0.],\n",
       "       [3955.],\n",
       "       [   0.]])"
      ]
     },
     "execution_count": 9,
     "metadata": {},
     "output_type": "execute_result"
    }
   ],
   "source": [
    "# Creating Force Vector\n",
    "f = np.zeros([len(Kc), 1])\n",
    "f[-2] = F\n",
    "f"
   ]
  },
  {
   "cell_type": "code",
   "execution_count": 10,
   "id": "ae6ddd57",
   "metadata": {},
   "outputs": [
    {
     "data": {
      "text/plain": [
       "matrix([[0.00000000e+00],\n",
       "        [0.00000000e+00],\n",
       "        [4.35407479e-02],\n",
       "        [1.72839445e-03],\n",
       "        [1.72206104e-01],\n",
       "        [3.39819926e-03],\n",
       "        [3.83060737e-01],\n",
       "        [5.00941443e-03],\n",
       "        [6.73169316e-01],\n",
       "        [6.56203995e-03],\n",
       "        [1.03959651e+00],\n",
       "        [8.05607583e-03],\n",
       "        [1.47940699e+00],\n",
       "        [9.49152207e-03],\n",
       "        [1.98966541e+00],\n",
       "        [1.08683787e-02],\n",
       "        [2.56743646e+00],\n",
       "        [1.21866456e-02],\n",
       "        [3.20978480e+00],\n",
       "        [1.34463229e-02],\n",
       "        [3.91377509e+00],\n",
       "        [1.46474106e-02],\n",
       "        [4.67647201e+00],\n",
       "        [1.57899086e-02],\n",
       "        [5.49494023e+00],\n",
       "        [1.68738170e-02],\n",
       "        [6.36624441e+00],\n",
       "        [1.78991358e-02],\n",
       "        [7.28744922e+00],\n",
       "        [1.88658649e-02],\n",
       "        [8.25561934e+00],\n",
       "        [1.97740043e-02],\n",
       "        [9.26781942e+00],\n",
       "        [2.06235541e-02],\n",
       "        [1.03211141e+01],\n",
       "        [2.14145143e-02],\n",
       "        [1.14125682e+01],\n",
       "        [2.21468848e-02],\n",
       "        [1.25392462e+01],\n",
       "        [2.28206657e-02],\n",
       "        [1.36982128e+01],\n",
       "        [2.34358570e-02],\n",
       "        [1.48865328e+01],\n",
       "        [2.39924586e-02],\n",
       "        [1.61012707e+01],\n",
       "        [2.44904705e-02],\n",
       "        [1.73394913e+01],\n",
       "        [2.49298928e-02],\n",
       "        [1.85982592e+01],\n",
       "        [2.53107255e-02],\n",
       "        [1.98746391e+01],\n",
       "        [2.56329686e-02],\n",
       "        [2.11656957e+01],\n",
       "        [2.58966219e-02],\n",
       "        [2.24684936e+01],\n",
       "        [2.61016857e-02],\n",
       "        [2.37800975e+01],\n",
       "        [2.62481598e-02],\n",
       "        [2.50975720e+01],\n",
       "        [2.63360443e-02],\n",
       "        [2.64179819e+01],\n",
       "        [2.63653391e-02]])"
      ]
     },
     "execution_count": 10,
     "metadata": {},
     "output_type": "execute_result"
    }
   ],
   "source": [
    "# Obtaining the Nodal Displacement Vector\n",
    "u = np.linalg.solve(Kc, f)\n",
    "u = list(u)\n",
    "u.insert(0, [0])\n",
    "u.insert(0, [0])\n",
    "u = np.matrix(u)\n",
    "u"
   ]
  },
  {
   "cell_type": "code",
   "execution_count": 11,
   "id": "f08792e2",
   "metadata": {},
   "outputs": [
    {
     "data": {
      "text/plain": [
       "matrix([[-3.95500000e+03],\n",
       "        [-5.94434523e+06],\n",
       "        [ 9.31322575e-10],\n",
       "        [-1.49011612e-08],\n",
       "        [ 3.25962901e-09],\n",
       "        [ 0.00000000e+00],\n",
       "        [ 8.84756446e-09],\n",
       "        [ 0.00000000e+00],\n",
       "        [-4.65661287e-10],\n",
       "        [ 0.00000000e+00],\n",
       "        [-8.38190317e-09],\n",
       "        [ 5.96046448e-08],\n",
       "        [-1.62981451e-09],\n",
       "        [-5.96046448e-08],\n",
       "        [-1.30385160e-08],\n",
       "        [-5.96046448e-08],\n",
       "        [ 3.45753506e-08],\n",
       "        [ 0.00000000e+00],\n",
       "        [ 2.21189111e-09],\n",
       "        [ 2.38418579e-07],\n",
       "        [ 3.94647941e-08],\n",
       "        [ 0.00000000e+00],\n",
       "        [-1.71130523e-08],\n",
       "        [ 2.38418579e-07],\n",
       "        [ 3.10828909e-08],\n",
       "        [-2.38418579e-07],\n",
       "        [ 1.33877620e-08],\n",
       "        [-1.19209290e-07],\n",
       "        [-8.21892172e-08],\n",
       "        [ 5.96046448e-07],\n",
       "        [ 6.21657819e-08],\n",
       "        [-1.19209290e-07],\n",
       "        [ 9.66247171e-09],\n",
       "        [ 4.76837158e-07],\n",
       "        [ 5.79748303e-08],\n",
       "        [ 0.00000000e+00],\n",
       "        [ 6.44940883e-08],\n",
       "        [ 0.00000000e+00],\n",
       "        [-9.01054591e-08],\n",
       "        [ 3.57627869e-07],\n",
       "        [ 6.85686246e-08],\n",
       "        [ 3.57627869e-07],\n",
       "        [-4.65661287e-08],\n",
       "        [ 7.15255737e-07],\n",
       "        [ 1.36613380e-07],\n",
       "        [-9.53674316e-07],\n",
       "        [-7.60774128e-08],\n",
       "        [ 0.00000000e+00],\n",
       "        [ 3.57977115e-08],\n",
       "        [ 0.00000000e+00],\n",
       "        [ 1.34750735e-07],\n",
       "        [-4.76837158e-07],\n",
       "        [-5.43950591e-08],\n",
       "        [ 4.76837158e-07],\n",
       "        [-3.84170562e-09],\n",
       "        [-1.78813934e-06],\n",
       "        [ 1.74011802e-07],\n",
       "        [-1.31130219e-06],\n",
       "        [-1.19209290e-07],\n",
       "        [-1.90734863e-06],\n",
       "        [ 3.95500000e+03],\n",
       "        [-1.90734863e-06]])"
      ]
     },
     "execution_count": 11,
     "metadata": {},
     "output_type": "execute_result"
    }
   ],
   "source": [
    "# Obtaining the Full force Vector including the Reaction Force\n",
    "Force = np.matmul(K, u)\n",
    "Force"
   ]
  },
  {
   "cell_type": "code",
   "execution_count": 12,
   "id": "a941fc7b",
   "metadata": {},
   "outputs": [
    {
     "data": {
      "text/plain": [
       "[matrix([[3.39142770919548e-5]], dtype=object),\n",
       " matrix([[3.27448192611560e-5]], dtype=object),\n",
       " matrix([[3.15753614303579e-5]], dtype=object),\n",
       " matrix([[3.04059035995630e-5]], dtype=object),\n",
       " matrix([[2.92364457687683e-5]], dtype=object),\n",
       " matrix([[2.80669879379698e-5]], dtype=object),\n",
       " matrix([[2.68975301071705e-5]], dtype=object),\n",
       " matrix([[2.57280722763661e-5]], dtype=object),\n",
       " matrix([[2.45586144455717e-5]], dtype=object),\n",
       " matrix([[2.33891566147762e-5]], dtype=object),\n",
       " matrix([[2.22196987839974e-5]], dtype=object),\n",
       " matrix([[2.10502409532108e-5]], dtype=object),\n",
       " matrix([[1.98807831224394e-5]], dtype=object),\n",
       " matrix([[1.87113252916697e-5]], dtype=object),\n",
       " matrix([[1.75418674608710e-5]], dtype=object),\n",
       " matrix([[1.63724096300924e-5]], dtype=object),\n",
       " matrix([[1.52029517993071e-5]], dtype=object),\n",
       " matrix([[1.40334939685465e-5]], dtype=object),\n",
       " matrix([[1.28640361378013e-5]], dtype=object),\n",
       " matrix([[1.16945783070323e-5]], dtype=object),\n",
       " matrix([[1.05251204762953e-5]], dtype=object),\n",
       " matrix([[9.35566264553172e-6]], dtype=object),\n",
       " matrix([[8.18620481483076e-6]], dtype=object),\n",
       " matrix([[7.01674698411507e-6]], dtype=object),\n",
       " matrix([[5.84728915341542e-6]], dtype=object),\n",
       " matrix([[4.67783132273528e-6]], dtype=object),\n",
       " matrix([[3.50837349202436e-6]], dtype=object),\n",
       " matrix([[2.33891566133035e-6]], dtype=object),\n",
       " matrix([[1.16945783067450e-6]], dtype=object),\n",
       " matrix([[-8.23993651088983e-18]], dtype=object)]"
      ]
     },
     "execution_count": 12,
     "metadata": {},
     "output_type": "execute_result"
    }
   ],
   "source": [
    "# Calculation the Strains using the nodal displacement vector\n",
    "strain = []\n",
    "for i in elem:\n",
    "    temp = []\n",
    "    for a in range(shape_d.size):\n",
    "        temp.append(shape_d[0,a].subs(x, Le).subs(Le, le))\n",
    "    temp = np.matrix(temp)   \n",
    "    strain.append(np.matmul(temp, u[2*i[0]-2:2*i[1], 0]))\n",
    "strain"
   ]
  },
  {
   "cell_type": "code",
   "execution_count": 13,
   "id": "e45398ea",
   "metadata": {},
   "outputs": [
    {
     "data": {
      "text/plain": [
       "array([[[54.6358312100139]],\n",
       "\n",
       "       [[52.7518370302910]],\n",
       "\n",
       "       [[50.8678428505693]],\n",
       "\n",
       "       [[48.9838486708526]],\n",
       "\n",
       "       [[47.0998544911364]],\n",
       "\n",
       "       [[45.2158603114140]],\n",
       "\n",
       "       [[43.3318661316903]],\n",
       "\n",
       "       [[41.4478719519584]],\n",
       "\n",
       "       [[39.5638777722426]],\n",
       "\n",
       "       [[37.6798835925250]],\n",
       "\n",
       "       [[35.7958894128343]],\n",
       "\n",
       "       [[33.9118952331311]],\n",
       "\n",
       "       [[32.0279010534523]],\n",
       "\n",
       "       [[30.1439068737763]],\n",
       "\n",
       "       [[28.2599126940535]],\n",
       "\n",
       "       [[26.3759185143632]],\n",
       "\n",
       "       [[24.4919243346620]],\n",
       "\n",
       "       [[22.6079301550007]],\n",
       "\n",
       "       [[20.7239359753642]],\n",
       "\n",
       "       [[18.8399417956893]],\n",
       "\n",
       "       [[16.9559476160660]],\n",
       "\n",
       "       [[15.0719534363998]],\n",
       "\n",
       "       [[13.1879592568345]],\n",
       "\n",
       "       [[11.3039650772455]],\n",
       "\n",
       "       [[9.41997089768237]],\n",
       "\n",
       "       [[7.53597671815064]],\n",
       "\n",
       "       [[5.65198253856932]],\n",
       "\n",
       "       [[3.76798835901524]],\n",
       "\n",
       "       [[1.88399417952264]],\n",
       "\n",
       "       [[-1.32745209095730e-11]]], dtype=object)"
      ]
     },
     "execution_count": 13,
     "metadata": {},
     "output_type": "execute_result"
    }
   ],
   "source": [
    "# Calculation Stress\n",
    "y = 45.37/2\n",
    "stress = E * np.array(strain) * y\n",
    "stress"
   ]
  },
  {
   "cell_type": "code",
   "execution_count": 14,
   "id": "cfad3fe1",
   "metadata": {},
   "outputs": [
    {
     "name": "stdout",
     "output_type": "stream",
     "text": [
      "Hand Caluclation for Tip Deflection: 26.417981876340257\n",
      "FEM Tip Deflection: 26.417981878465586\n",
      "% Error: -8.045009856832463e-09\n"
     ]
    }
   ],
   "source": [
    "a = le\n",
    "u_act = (F*L**3/(3*E*I))\n",
    "# u_act = (F/(6*E*I))*a**2*(3*L-a)\n",
    "\n",
    "print('Hand Caluclation for Tip Deflection:', u_act)\n",
    "print('FEM Tip Deflection:', u[-2,0])\n",
    "print('% Error:', (u_act-u[-2,0])*100/u_act)"
   ]
  },
  {
   "cell_type": "code",
   "execution_count": 15,
   "id": "ee3cc9fd",
   "metadata": {},
   "outputs": [
    {
     "name": "stdout",
     "output_type": "stream",
     "text": [
      "Hand Caluclation for Tip Deflection: 56.51982538443447\n",
      "FEM Tip Deflection: [52.7518370302910]\n",
      "% Error: [6.66666665814085]\n"
     ]
    }
   ],
   "source": [
    "a = le\n",
    "y = 45.37/2\n",
    "stress_act = (F*L*y/I)\n",
    "# stress_act = (F/(6*E*I))*a**2*(3*L-a)\n",
    "\n",
    "print('Hand Caluclation for Tip Deflection:', stress_act)\n",
    "print('FEM Tip Deflection:', stress[1,0])\n",
    "print('% Error:', (stress_act-stress[1,0])*100/stress_act)"
   ]
  },
  {
   "cell_type": "code",
   "execution_count": 16,
   "id": "92f20426",
   "metadata": {},
   "outputs": [
    {
     "data": {
      "text/plain": [
       "<matplotlib.legend.Legend at 0x24271ce49d0>"
      ]
     },
     "execution_count": 16,
     "metadata": {},
     "output_type": "execute_result"
    },
    {
     "data": {
      "image/png": "[encoded data removed]",
      "text/plain": [
       "<Figure size 640x480 with 1 Axes>"
      ]
     },
     "metadata": {},
     "output_type": "display_data"
    }
   ],
   "source": [
    "Multiplier = 1\n",
    "\n",
    "uu = []\n",
    "for i in range(1, len(u)+1):\n",
    "    if i%2!=0:\n",
    "        uu.append([u[i-1, 0]])\n",
    "uu = np.matrix(uu)\n",
    "        \n",
    "x1 = [[0]]\n",
    "te = 0\n",
    "for i in range(len(uu)-1):\n",
    "    te = te + le\n",
    "    x1.append([te])\n",
    "x1 = np.matrix(x1)\n",
    "\n",
    "x = [[0]]\n",
    "te = 0\n",
    "for i in range(len(uu)-1):\n",
    "    te = te + ((le)**2 - (uu[i+1,0]*Multiplier)**2)**0.5\n",
    "    x.append([te])\n",
    "x = np.matrix(x)\n",
    "\n",
    "y = [[0]]\n",
    "te = 0\n",
    "for i in range(len(uu)-1):\n",
    "    te = uu[i+1,0]*Multiplier\n",
    "    y.append([te])\n",
    "y = np.matrix(y)\n",
    "\n",
    "\n",
    "plt.plot(x, y, marker='o', color='tab:blue', markersize=10, label=f'After Loading ({Multiplier}x Deflection)')\n",
    "ind = 0\n",
    "for i in zip(x,y):\n",
    "    plt.annotate('(%.4f)'% (uu[ind,0]), xy=i, xytext=(x[ind]-200,y[ind]+0.0005), color='tab:blue')\n",
    "    ind = ind+1\n",
    "\n",
    "plt.plot(x1, np.zeros([x1.size,1]), marker='o', color='tab:orange', label='Before Loading')\n",
    "plt.legend()"
   ]
  }
 ],
 "metadata": {
  "kernelspec": {
   "display_name": "Python 3 (ipykernel)",
   "language": "python",
   "name": "python3"
  },
  "language_info": {
   "codemirror_mode": {
    "name": "ipython",
    "version": 3
   },
   "file_extension": ".py",
   "mimetype": "text/x-python",
   "name": "python",
   "nbconvert_exporter": "python",
   "pygments_lexer": "ipython3",
   "version": "3.11.0"
  }
 },
 "nbformat": 4,
 "nbformat_minor": 5
}
