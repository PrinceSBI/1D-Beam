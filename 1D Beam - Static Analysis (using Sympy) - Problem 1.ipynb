{
 "cells": [
  {
   "cell_type": "code",
   "execution_count": 1,
   "id": "71a25574",
   "metadata": {},
   "outputs": [],
   "source": [
    "import numpy as np\n",
    "from sympy import *\n",
    "from matplotlib import pyplot as plt"
   ]
  },
  {
   "cell_type": "markdown",
   "id": "a4e4ca8d",
   "metadata": {},
   "source": [
    "# 1D Beam Solution"
   ]
  },
  {
   "cell_type": "code",
   "execution_count": 2,
   "id": "c315a6df",
   "metadata": {},
   "outputs": [],
   "source": [
    "bc = 1  # constrain (or Boundary condition) at node 1\n",
    "E = 70000   # Youngs Modulus\n",
    "I = 300*40**3/12  # Area Moment of Inertia \n",
    "L = 1500  # Length of Bar\n",
    "F = 4000   # Force at the tip of Bar\n",
    "numElem = 30  # Number of Elements"
   ]
  },
  {
   "cell_type": "code",
   "execution_count": 3,
   "id": "5ffbb13b",
   "metadata": {},
   "outputs": [
    {
     "data": {
      "text/plain": [
       "[[1, 2],\n",
       " [2, 3],\n",
       " [3, 4],\n",
       " [4, 5],\n",
       " [5, 6],\n",
       " [6, 7],\n",
       " [7, 8],\n",
       " [8, 9],\n",
       " [9, 10],\n",
       " [10, 11],\n",
       " [11, 12],\n",
       " [12, 13],\n",
       " [13, 14],\n",
       " [14, 15],\n",
       " [15, 16],\n",
       " [16, 17],\n",
       " [17, 18],\n",
       " [18, 19],\n",
       " [19, 20],\n",
       " [20, 21],\n",
       " [21, 22],\n",
       " [22, 23],\n",
       " [23, 24],\n",
       " [24, 25],\n",
       " [25, 26],\n",
       " [26, 27],\n",
       " [27, 28],\n",
       " [28, 29],\n",
       " [29, 30],\n",
       " [30, 31]]"
      ]
     },
     "execution_count": 3,
     "metadata": {},
     "output_type": "execute_result"
    }
   ],
   "source": [
    "le = L/numElem\n",
    "\n",
    "elem = []\n",
    "for i in range(numElem):\n",
    "    elem.append([i+1,i+2])\n",
    "elem"
   ]
  },
  {
   "cell_type": "code",
   "execution_count": 4,
   "id": "9a5e2f05",
   "metadata": {},
   "outputs": [
    {
     "data": {
      "text/plain": [
       "(matrix([[1.6e-5*x**3 - 0.0012*x**2 + 1, 0.0004*x**3 - 0.04*x**2 + 1.0*x,\n",
       "          -1.6e-5*x**3 + 0.0012*x**2, 0.0004*x**3 - 0.02*x**2]],\n",
       "        dtype=object),\n",
       " matrix([[9.6e-5*x - 0.0024, 0.0024*x - 0.08, 0.0024 - 9.6e-5*x,\n",
       "          0.0024*x - 0.04]], dtype=object))"
      ]
     },
     "execution_count": 4,
     "metadata": {},
     "output_type": "execute_result"
    }
   ],
   "source": [
    "x = Symbol('x')\n",
    "Le = Symbol('Le')\n",
    "\n",
    "# Shape Function Matrix\n",
    "shape = np.matrix([\n",
    "    (2*(x/le)**3 - 3*(x/le)**2 + 1),\n",
    "    ((x/le)**3 - 2*(x/le)**2 + (x/le))*le,\n",
    "    (-2*(x/le)**3 + 3*(x/le)**2),\n",
    "    ((x/le)**3 - (x/le)**2)*le\n",
    "])\n",
    "\n",
    "# Differentiated Shape Function Matrix\n",
    "shape_d = []\n",
    "for i in range(shape.shape[1]):\n",
    "    shape_d.append(diff(diff(np.array(shape[0, i]).flatten()[0], x), x))\n",
    "\n",
    "shape = np.matrix(shape)\n",
    "shape_d = np.matrix(shape_d)\n",
    "\n",
    "shape, shape_d"
   ]
  },
  {
   "cell_type": "code",
   "execution_count": 5,
   "id": "70460b21",
   "metadata": {},
   "outputs": [
    {
     "data": {
      "text/plain": [
       "matrix([[Le*(3.072e-9*Le**2 - 2.304e-7*Le + 5.76e-6),\n",
       "         Le*(7.68e-8*Le**2 - 6.72e-6*Le + 0.000192),\n",
       "         Le*(-3.072e-9*Le**2 + 2.304e-7*Le - 5.76e-6),\n",
       "         Le*(7.68e-8*Le**2 - 4.8e-6*Le + 9.6e-5)],\n",
       "        [Le*(7.68e-8*Le**2 - 6.72e-6*Le + 0.000192),\n",
       "         Le*(1.92e-6*Le**2 - 0.000192*Le + 0.0064),\n",
       "         Le*(-7.68e-8*Le**2 + 6.72e-6*Le - 0.000192),\n",
       "         Le*(1.92e-6*Le**2 - 0.000144*Le + 0.0032)],\n",
       "        [Le*(-3.072e-9*Le**2 + 2.304e-7*Le - 5.76e-6),\n",
       "         Le*(-7.68e-8*Le**2 + 6.72e-6*Le - 0.000192),\n",
       "         Le*(3.072e-9*Le**2 - 2.304e-7*Le + 5.76e-6),\n",
       "         Le*(-7.68e-8*Le**2 + 4.8e-6*Le - 9.6e-5)],\n",
       "        [Le*(7.68e-8*Le**2 - 4.8e-6*Le + 9.6e-5),\n",
       "         Le*(1.92e-6*Le**2 - 0.000144*Le + 0.0032),\n",
       "         Le*(-7.68e-8*Le**2 + 4.8e-6*Le - 9.6e-5),\n",
       "         Le*(1.92e-6*Le**2 - 9.6e-5*Le + 0.0016)]], dtype=object)"
      ]
     },
     "execution_count": 5,
     "metadata": {},
     "output_type": "execute_result"
    }
   ],
   "source": [
    "# Creating The Local Stiffness Matrix\n",
    "\n",
    "k = np.matmul(shape_d.T, shape_d)\n",
    "for i in range(k.shape[0]):\n",
    "    for j in range(k.shape[1]):\n",
    "        k[i,j] = simplify(integrate(k[i,j], x).subs(x, Le))\n",
    "k"
   ]
  },
  {
   "cell_type": "code",
   "execution_count": 6,
   "id": "a8f2e9d5",
   "metadata": {},
   "outputs": [],
   "source": [
    "K = np.zeros([2*len(elem)+2, 2*len(elem)+2])  # Creating initially zero matrix for global stiffness matrix\n",
    "\n",
    "for i in elem:\n",
    "    temp = k.copy()\n",
    "    for a in range(temp.shape[0]):\n",
    "        for j in range(temp.shape[1]):\n",
    "            temp[a,j] = temp[a,j].subs(Le, le)\n",
    "    K[2*i[0]-2:2*i[1], 2*i[0]-2:2*i[1]] = K[2*i[0]-2:2*i[1], 2*i[0]-2:2*i[1]] +  (E*I) * temp"
   ]
  },
  {
   "cell_type": "code",
   "execution_count": 7,
   "id": "8c44f2de",
   "metadata": {},
   "outputs": [],
   "source": [
    "def BC(K, bc):\n",
    "    newK = []\n",
    "    for i in range(len(K)):\n",
    "        temp = []\n",
    "        for j in range(len(K[0])):\n",
    "            if not(i==bc or j==bc or i==bc+1 or j==bc+1):\n",
    "                temp.append(K[i][j])\n",
    "        if temp != []:\n",
    "            newK.append(temp)\n",
    "    if newK != []:\n",
    "        return np.matrix(newK)\n",
    "    else:\n",
    "        return np.matrix(K)"
   ]
  },
  {
   "cell_type": "code",
   "execution_count": 8,
   "id": "2a76f369",
   "metadata": {},
   "outputs": [],
   "source": [
    "# Global Stiffness Matrix After Applying Boundary Conditions\n",
    "Kc = BC(K, bc-1)"
   ]
  },
  {
   "cell_type": "code",
   "execution_count": 9,
   "id": "876f72d3",
   "metadata": {},
   "outputs": [
    {
     "data": {
      "text/plain": [
       "array([[   0.],\n",
       "       [   0.],\n",
       "       [   0.],\n",
       "       [   0.],\n",
       "       [   0.],\n",
       "       [   0.],\n",
       "       [   0.],\n",
       "       [   0.],\n",
       "       [   0.],\n",
       "       [   0.],\n",
       "       [   0.],\n",
       "       [   0.],\n",
       "       [   0.],\n",
       "       [   0.],\n",
       "       [   0.],\n",
       "       [   0.],\n",
       "       [   0.],\n",
       "       [   0.],\n",
       "       [   0.],\n",
       "       [   0.],\n",
       "       [   0.],\n",
       "       [   0.],\n",
       "       [   0.],\n",
       "       [   0.],\n",
       "       [   0.],\n",
       "       [   0.],\n",
       "       [   0.],\n",
       "       [   0.],\n",
       "       [   0.],\n",
       "       [   0.],\n",
       "       [   0.],\n",
       "       [   0.],\n",
       "       [   0.],\n",
       "       [   0.],\n",
       "       [   0.],\n",
       "       [   0.],\n",
       "       [   0.],\n",
       "       [   0.],\n",
       "       [   0.],\n",
       "       [   0.],\n",
       "       [   0.],\n",
       "       [   0.],\n",
       "       [   0.],\n",
       "       [   0.],\n",
       "       [   0.],\n",
       "       [   0.],\n",
       "       [   0.],\n",
       "       [   0.],\n",
       "       [   0.],\n",
       "       [   0.],\n",
       "       [   0.],\n",
       "       [   0.],\n",
       "       [   0.],\n",
       "       [   0.],\n",
       "       [   0.],\n",
       "       [   0.],\n",
       "       [   0.],\n",
       "       [   0.],\n",
       "       [4000.],\n",
       "       [   0.]])"
      ]
     },
     "execution_count": 9,
     "metadata": {},
     "output_type": "execute_result"
    }
   ],
   "source": [
    "# Creating Force Vector\n",
    "f = np.zeros([len(Kc), 1])\n",
    "f[-2] = F\n",
    "f"
   ]
  },
  {
   "cell_type": "code",
   "execution_count": 10,
   "id": "ae6ddd57",
   "metadata": {},
   "outputs": [
    {
     "data": {
      "text/plain": [
       "matrix([[0.00000000e+00],\n",
       "        [0.00000000e+00],\n",
       "        [6.62202381e-02],\n",
       "        [2.63392857e-03],\n",
       "        [2.61904762e-01],\n",
       "        [5.17857143e-03],\n",
       "        [5.82589286e-01],\n",
       "        [7.63392857e-03],\n",
       "        [1.02380952e+00],\n",
       "        [1.00000000e-02],\n",
       "        [1.58110119e+00],\n",
       "        [1.22767857e-02],\n",
       "        [2.25000000e+00],\n",
       "        [1.44642857e-02],\n",
       "        [3.02604167e+00],\n",
       "        [1.65625000e-02],\n",
       "        [3.90476190e+00],\n",
       "        [1.85714286e-02],\n",
       "        [4.88169643e+00],\n",
       "        [2.04910714e-02],\n",
       "        [5.95238095e+00],\n",
       "        [2.23214286e-02],\n",
       "        [7.11235119e+00],\n",
       "        [2.40625000e-02],\n",
       "        [8.35714286e+00],\n",
       "        [2.57142857e-02],\n",
       "        [9.68229167e+00],\n",
       "        [2.72767857e-02],\n",
       "        [1.10833333e+01],\n",
       "        [2.87500000e-02],\n",
       "        [1.25558036e+01],\n",
       "        [3.01339286e-02],\n",
       "        [1.40952381e+01],\n",
       "        [3.14285714e-02],\n",
       "        [1.56971726e+01],\n",
       "        [3.26339286e-02],\n",
       "        [1.73571429e+01],\n",
       "        [3.37500000e-02],\n",
       "        [1.90706845e+01],\n",
       "        [3.47767857e-02],\n",
       "        [2.08333333e+01],\n",
       "        [3.57142857e-02],\n",
       "        [2.26406250e+01],\n",
       "        [3.65625000e-02],\n",
       "        [2.44880952e+01],\n",
       "        [3.73214286e-02],\n",
       "        [2.63712798e+01],\n",
       "        [3.79910714e-02],\n",
       "        [2.82857143e+01],\n",
       "        [3.85714286e-02],\n",
       "        [3.02269345e+01],\n",
       "        [3.90625000e-02],\n",
       "        [3.21904762e+01],\n",
       "        [3.94642857e-02],\n",
       "        [3.41718750e+01],\n",
       "        [3.97767857e-02],\n",
       "        [3.61666667e+01],\n",
       "        [4.00000000e-02],\n",
       "        [3.81703869e+01],\n",
       "        [4.01339286e-02],\n",
       "        [4.01785714e+01],\n",
       "        [4.01785714e-02]])"
      ]
     },
     "execution_count": 10,
     "metadata": {},
     "output_type": "execute_result"
    }
   ],
   "source": [
    "# Obtaining the Nodal Displacement Vector\n",
    "u = np.linalg.solve(Kc, f)\n",
    "u = list(u)\n",
    "u.insert(0, [0])\n",
    "u.insert(0, [0])\n",
    "u = np.matrix(u)\n",
    "u"
   ]
  },
  {
   "cell_type": "code",
   "execution_count": 11,
   "id": "f08792e2",
   "metadata": {},
   "outputs": [
    {
     "data": {
      "text/plain": [
       "matrix([[-4.00000000e+03],\n",
       "        [-6.00000000e+06],\n",
       "        [-9.31322575e-10],\n",
       "        [ 0.00000000e+00],\n",
       "        [ 1.62981451e-09],\n",
       "        [ 2.98023224e-08],\n",
       "        [ 1.16415322e-09],\n",
       "        [ 0.00000000e+00],\n",
       "        [-4.42378223e-09],\n",
       "        [-5.96046448e-08],\n",
       "        [ 9.54605639e-09],\n",
       "        [ 0.00000000e+00],\n",
       "        [-1.18743628e-08],\n",
       "        [ 0.00000000e+00],\n",
       "        [ 1.34110451e-07],\n",
       "        [-5.96046448e-08],\n",
       "        [-2.56113708e-09],\n",
       "        [-5.96046448e-08],\n",
       "        [ 7.45058060e-09],\n",
       "        [ 0.00000000e+00],\n",
       "        [ 4.54019755e-09],\n",
       "        [ 0.00000000e+00],\n",
       "        [ 6.98491931e-10],\n",
       "        [-1.19209290e-07],\n",
       "        [ 5.92553988e-08],\n",
       "        [-1.19209290e-07],\n",
       "        [ 8.26548785e-09],\n",
       "        [ 4.76837158e-07],\n",
       "        [-6.82193786e-08],\n",
       "        [ 3.57627869e-07],\n",
       "        [-2.68919393e-08],\n",
       "        [-1.19209290e-07],\n",
       "        [ 1.39698386e-08],\n",
       "        [-1.19209290e-07],\n",
       "        [ 8.05594027e-08],\n",
       "        [-2.38418579e-07],\n",
       "        [-3.71364877e-08],\n",
       "        [ 5.96046448e-07],\n",
       "        [ 1.25728548e-08],\n",
       "        [-3.57627869e-07],\n",
       "        [ 2.52621248e-08],\n",
       "        [-3.57627869e-07],\n",
       "        [-5.55301085e-08],\n",
       "        [ 0.00000000e+00],\n",
       "        [ 3.84170562e-08],\n",
       "        [-7.15255737e-07],\n",
       "        [-7.68341124e-09],\n",
       "        [ 1.19209290e-07],\n",
       "        [-1.39989424e-07],\n",
       "        [-1.19209290e-07],\n",
       "        [-9.39762685e-08],\n",
       "        [-1.43051147e-06],\n",
       "        [ 8.75152182e-08],\n",
       "        [-2.38418579e-07],\n",
       "        [-1.13475835e-07],\n",
       "        [ 8.34465027e-07],\n",
       "        [-7.13771442e-08],\n",
       "        [-9.53674316e-07],\n",
       "        [ 0.00000000e+00],\n",
       "        [ 0.00000000e+00],\n",
       "        [ 4.00000000e+03],\n",
       "        [ 0.00000000e+00]])"
      ]
     },
     "execution_count": 11,
     "metadata": {},
     "output_type": "execute_result"
    }
   ],
   "source": [
    "# Obtaining the Full force Vector including the Reaction Force\n",
    "Force = np.matmul(K, u)\n",
    "Force"
   ]
  },
  {
   "cell_type": "code",
   "execution_count": 12,
   "id": "a941fc7b",
   "metadata": {},
   "outputs": [
    {
     "data": {
      "text/plain": [
       "[matrix([[5.17857142829334e-5]], dtype=object),\n",
       " matrix([[4.99999999972851e-5]], dtype=object),\n",
       " matrix([[4.82142857116367e-5]], dtype=object),\n",
       " matrix([[4.64285714259874e-5]], dtype=object),\n",
       " matrix([[4.46428571403345e-5]], dtype=object),\n",
       " matrix([[4.28571428546852e-5]], dtype=object),\n",
       " matrix([[4.10714285690300e-5]], dtype=object),\n",
       " matrix([[3.92857142834315e-5]], dtype=object),\n",
       " matrix([[3.74999999978353e-5]], dtype=object),\n",
       " matrix([[3.57142857122399e-5]], dtype=object),\n",
       " matrix([[3.39285714266438e-5]], dtype=object),\n",
       " matrix([[3.21428571410406e-5]], dtype=object),\n",
       " matrix([[3.03571428554666e-5]], dtype=object),\n",
       " matrix([[2.85714285698790e-5]], dtype=object),\n",
       " matrix([[2.67857142842508e-5]], dtype=object),\n",
       " matrix([[2.49999999986259e-5]], dtype=object),\n",
       " matrix([[2.32142857130102e-5]], dtype=object),\n",
       " matrix([[2.14285714274075e-5]], dtype=object),\n",
       " matrix([[1.96428571418140e-5]], dtype=object),\n",
       " matrix([[1.78571428562113e-5]], dtype=object),\n",
       " matrix([[1.60714285706177e-5]], dtype=object),\n",
       " matrix([[1.42857142849924e-5]], dtype=object),\n",
       " matrix([[1.24999999993876e-5]], dtype=object),\n",
       " matrix([[1.07142857137831e-5]], dtype=object),\n",
       " matrix([[8.92857142813187e-6]], dtype=object),\n",
       " matrix([[7.14285714249665e-6]], dtype=object),\n",
       " matrix([[5.35714285690957e-6]], dtype=object),\n",
       " matrix([[3.57142857124789e-6]], dtype=object),\n",
       " matrix([[1.78571428559879e-6]], dtype=object),\n",
       " matrix([[-7.28583859910259e-17]], dtype=object)]"
      ]
     },
     "execution_count": 12,
     "metadata": {},
     "output_type": "execute_result"
    }
   ],
   "source": [
    "# Calculation the Strains using the nodal displacement vector\n",
    "strain = []\n",
    "for i in elem:\n",
    "    temp = []\n",
    "    for a in range(shape_d.size):\n",
    "        temp.append(shape_d[0,a].subs(x, Le).subs(Le, le))\n",
    "    temp = np.matrix(temp)   \n",
    "    strain.append(np.matmul(temp, u[2*i[0]-2:2*i[1], 0]))\n",
    "strain"
   ]
  },
  {
   "cell_type": "code",
   "execution_count": 13,
   "id": "e45398ea",
   "metadata": {},
   "outputs": [
    {
     "data": {
      "text/plain": [
       "array([[[82.2331249955841]],\n",
       "\n",
       "       [[79.3974999956888]],\n",
       "\n",
       "       [[76.5618749957935]],\n",
       "\n",
       "       [[73.7262499958967]],\n",
       "\n",
       "       [[70.8906249959942]],\n",
       "\n",
       "       [[68.0549999960974]],\n",
       "\n",
       "       [[65.2193749961912]],\n",
       "\n",
       "       [[62.3837499963750]],\n",
       "\n",
       "       [[59.5481249965625]],\n",
       "\n",
       "       [[56.7124999967514]],\n",
       "\n",
       "       [[53.8768749969390]],\n",
       "\n",
       "       [[51.0412499971155]],\n",
       "\n",
       "       [[48.2056249973381]],\n",
       "\n",
       "       [[45.3699999975394]],\n",
       "\n",
       "       [[42.5343749976760]],\n",
       "\n",
       "       [[39.6987499978181]],\n",
       "\n",
       "       [[36.8631249979746]],\n",
       "\n",
       "       [[34.0274999981518]],\n",
       "\n",
       "       [[31.1918749983435]],\n",
       "\n",
       "       [[28.3562499985207]],\n",
       "\n",
       "       [[25.5206249987123]],\n",
       "\n",
       "       [[22.6849999988537]],\n",
       "\n",
       "       [[19.8493749990275]],\n",
       "\n",
       "       [[17.0137499992019]],\n",
       "\n",
       "       [[14.1781249993020]],\n",
       "\n",
       "       [[11.3424999994276]],\n",
       "\n",
       "       [[8.50687499962955]],\n",
       "\n",
       "       [[5.67124999971309]],\n",
       "\n",
       "       [[2.83562499981660]],\n",
       "\n",
       "       [[-1.15695474034450e-10]]], dtype=object)"
      ]
     },
     "execution_count": 13,
     "metadata": {},
     "output_type": "execute_result"
    }
   ],
   "source": [
    "# Calculation Stress\n",
    "y = 45.37/2\n",
    "stress = E * np.array(strain) * y\n",
    "stress"
   ]
  },
  {
   "cell_type": "code",
   "execution_count": 14,
   "id": "cfad3fe1",
   "metadata": {},
   "outputs": [
    {
     "name": "stdout",
     "output_type": "stream",
     "text": [
      "Hand Calculation for Tip Deflection: 40.17857142857143\n",
      "FEM Tip Deflection: 40.17857142634645\n",
      "% Error: 5.537726287406662e-09\n"
     ]
    }
   ],
   "source": [
    "a = le\n",
    "u_act = (F*L**3/(3*E*I))\n",
    "# u_act = (F/(6*E*I))*a**2*(3*L-a)\n",
    "\n",
    "print('Hand Calculation for Tip Deflection:', u_act)\n",
    "print('FEM Tip Deflection:', u[-2,0])\n",
    "print('% Error:', (u_act-u[-2,0])*100/u_act)"
   ]
  },
  {
   "cell_type": "code",
   "execution_count": 15,
   "id": "ee3cc9fd",
   "metadata": {},
   "outputs": [
    {
     "name": "stdout",
     "output_type": "stream",
     "text": [
      "Hand Calculation for Bending Stress: 85.06875\n",
      "FEM Stress: [79.3974999956888]\n",
      "% Error: [6.66666667173452]\n"
     ]
    }
   ],
   "source": [
    "a = le\n",
    "y = 45.37/2\n",
    "stress_act = (F*L*y/I)\n",
    "# stress_act = (F/(6*E*I))*a**2*(3*L-a)\n",
    "\n",
    "print('Hand Calculation for Bending Stress:', stress_act)\n",
    "print('FEM Stress:', stress[1,0])\n",
    "print('% Error:', (stress_act-stress[1,0])*100/stress_act)"
   ]
  },
  {
   "cell_type": "code",
   "execution_count": 16,
   "id": "92f20426",
   "metadata": {},
   "outputs": [
    {
     "data": {
      "text/plain": [
       "<matplotlib.legend.Legend at 0x20afaa9ed90>"
      ]
     },
     "execution_count": 16,
     "metadata": {},
     "output_type": "execute_result"
    },
    {
     "data": {
      "image/png": "[encoded data removed]",
      "text/plain": [
       "<Figure size 640x480 with 1 Axes>"
      ]
     },
     "metadata": {},
     "output_type": "display_data"
    }
   ],
   "source": [
    "Multiplier = 1\n",
    "\n",
    "uu = []\n",
    "for i in range(1, len(u)+1):\n",
    "    if i%2!=0:\n",
    "        uu.append([u[i-1, 0]])\n",
    "uu = np.matrix(uu)\n",
    "        \n",
    "x1 = [[0]]\n",
    "te = 0\n",
    "for i in range(len(uu)-1):\n",
    "    te = te + le\n",
    "    x1.append([te])\n",
    "x1 = np.matrix(x1)\n",
    "\n",
    "x = [[0]]\n",
    "te = 0\n",
    "for i in range(len(uu)-1):\n",
    "    te = te + ((le)**2 - (uu[i+1,0]*Multiplier)**2)**0.5\n",
    "    x.append([te])\n",
    "x = np.matrix(x)\n",
    "\n",
    "y = [[0]]\n",
    "te = 0\n",
    "for i in range(len(uu)-1):\n",
    "    te = uu[i+1,0]*Multiplier\n",
    "    y.append([te])\n",
    "y = np.matrix(y)\n",
    "\n",
    "\n",
    "plt.plot(x, y, marker='o', color='tab:blue', markersize=10, label=f'After Loading ({Multiplier}x Deflection)')\n",
    "ind = 0\n",
    "for i in zip(x,y):\n",
    "    plt.annotate('(%.4f)'% (uu[ind,0]), xy=i, xytext=(x[ind]-200,y[ind]+0.0005), color='tab:blue')\n",
    "    ind = ind+1\n",
    "\n",
    "plt.plot(x1, np.zeros([x1.size,1]), marker='o', color='tab:orange', label='Before Loading')\n",
    "plt.legend()"
   ]
  }
 ],
 "metadata": {
  "kernelspec": {
   "display_name": "Python 3 (ipykernel)",
   "language": "python",
   "name": "python3"
  },
  "language_info": {
   "codemirror_mode": {
    "name": "ipython",
    "version": 3
   },
   "file_extension": ".py",
   "mimetype": "text/x-python",
   "name": "python",
   "nbconvert_exporter": "python",
   "pygments_lexer": "ipython3",
   "version": "3.11.0"
  }
 },
 "nbformat": 4,
 "nbformat_minor": 5
}
