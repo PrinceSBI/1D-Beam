{
 "cells": [
  {
   "cell_type": "code",
   "execution_count": 54,
   "id": "71a25574",
   "metadata": {},
   "outputs": [],
   "source": [
    "import numpy as np\n",
    "from sympy import *\n",
    "from matplotlib import pyplot as plt"
   ]
  },
  {
   "cell_type": "markdown",
   "id": "a4e4ca8d",
   "metadata": {},
   "source": [
    "# 1D Beam Solution"
   ]
  },
  {
   "cell_type": "code",
   "execution_count": 55,
   "id": "c315a6df",
   "metadata": {},
   "outputs": [],
   "source": [
    "bc = 1  # constrain (or Boundary condition) at node 1\n",
    "rho = 2.7*10**(-9) # Density of the Bar\n",
    "I = 300*40**3/12  # Area Moment of Inertia\n",
    "E = 70000   # Youngs Modulus\n",
    "A = 300*40   # Cross Section Area\n",
    "L = 1500  # Length of Bar\n",
    "F = 4000   # Force at the tip of Bar\n",
    "numElem = 5  # Number of Elements"
   ]
  },
  {
   "cell_type": "code",
   "execution_count": 56,
   "id": "5ffbb13b",
   "metadata": {},
   "outputs": [
    {
     "data": {
      "text/plain": [
       "[[1, 2], [2, 3], [3, 4], [4, 5], [5, 6]]"
      ]
     },
     "execution_count": 56,
     "metadata": {},
     "output_type": "execute_result"
    }
   ],
   "source": [
    "le = L/numElem\n",
    "\n",
    "elem = []\n",
    "for i in range(numElem):\n",
    "    elem.append([i+1,i+2])\n",
    "elem"
   ]
  },
  {
   "cell_type": "code",
   "execution_count": 57,
   "id": "9a5e2f05",
   "metadata": {},
   "outputs": [],
   "source": [
    "x = Symbol('x')\n",
    "Le = Symbol('Le')\n",
    "\n",
    "# Shape Function Matrix\n",
    "shape = np.matrix([\n",
    "    (2*(x/le)**3 - 3*(x/le)**2 + 1),\n",
    "    ((x/le)**3 - 2*(x/le)**2 + (x/le))*le,\n",
    "    (-2*(x/le)**3 + 3*(x/le)**2),\n",
    "    ((x/le)**3 - (x/le)**2)*le\n",
    "])\n",
    "\n",
    "# Differentiated Shape Function Matrix\n",
    "shape_d = []\n",
    "for i in range(shape.shape[1]):\n",
    "    shape_d.append(diff(diff(np.array(shape[0, i]).flatten()[0], x), x))\n",
    "\n",
    "shape = np.matrix(shape)\n",
    "shape_d = np.matrix(shape_d)"
   ]
  },
  {
   "cell_type": "code",
   "execution_count": 58,
   "id": "f21c5dfd",
   "metadata": {},
   "outputs": [],
   "source": [
    "# Creating The Local Mass Matrix\n",
    "m = np.matmul(shape.T, shape)\n",
    "for i in range(m.shape[0]):\n",
    "    for j in range(m.shape[1]):\n",
    "        m[i,j] = simplify(integrate(m[i,j], x).subs(x, Le))"
   ]
  },
  {
   "cell_type": "code",
   "execution_count": 59,
   "id": "70460b21",
   "metadata": {},
   "outputs": [],
   "source": [
    "# Creating The Local Stiffness Matrix\n",
    "k = np.matmul(shape_d.T, shape_d)\n",
    "for i in range(k.shape[0]):\n",
    "    for j in range(k.shape[1]):\n",
    "        k[i,j] = simplify(integrate(k[i,j], x).subs(x, Le))"
   ]
  },
  {
   "cell_type": "code",
   "execution_count": 60,
   "id": "a8f2e9d5",
   "metadata": {},
   "outputs": [],
   "source": [
    "K = np.zeros([2*len(elem)+2, 2*len(elem)+2])  # Creating initially zero matrix for global Stiffness matrix\n",
    "M = np.zeros([2*len(elem)+2, 2*len(elem)+2])  # Creating initially zero matrix for global Mass matrix\n",
    "\n",
    "for i in elem:\n",
    "    \n",
    "    temp1 = k.copy()\n",
    "    for a in range(temp1.shape[0]):\n",
    "        for j in range(temp1.shape[1]):\n",
    "            temp1[a,j] = temp1[a,j].subs(Le, le)\n",
    "    # print(temp1)\n",
    "    K[2*i[0]-2:2*i[1], 2*i[0]-2:2*i[1]] = K[2*i[0]-2:2*i[1], 2*i[0]-2:2*i[1]] +  (E*I) * temp1\n",
    "    \n",
    "    temp2 = m.copy()\n",
    "    for a in range(temp2.shape[0]):\n",
    "        for j in range(temp2.shape[1]):\n",
    "            temp2[a,j] = temp2[a,j].subs(Le, le)\n",
    "    M[2*i[0]-2:2*i[1], 2*i[0]-2:2*i[1]] = M[2*i[0]-2:2*i[1], 2*i[0]-2:2*i[1]] +  (rho*A) * temp2"
   ]
  },
  {
   "cell_type": "code",
   "execution_count": 61,
   "id": "8c44f2de",
   "metadata": {},
   "outputs": [],
   "source": [
    "# Function to apply Boundary Conditions\n",
    "def BC(K, bc):\n",
    "    newK = []\n",
    "    for i in range(len(K)):\n",
    "        temp = []\n",
    "        for j in range(len(K[0])):\n",
    "            if not(i==bc or j==bc or i==bc+1 or j==bc+1):\n",
    "                temp.append(K[i][j])\n",
    "        if temp != []:\n",
    "            newK.append(temp)\n",
    "    if newK != []:\n",
    "        return np.matrix(newK)\n",
    "    else:\n",
    "        return np.matrix(K)"
   ]
  },
  {
   "cell_type": "code",
   "execution_count": 62,
   "id": "2a76f369",
   "metadata": {},
   "outputs": [],
   "source": [
    "# Global Stiffness Matrix After Applying Boundary Conditions\n",
    "Kc = BC(K, bc-1)\n",
    "Mc = BC(M, bc-1)"
   ]
  },
  {
   "cell_type": "code",
   "execution_count": 63,
   "id": "8d9e1e64",
   "metadata": {},
   "outputs": [
    {
     "data": {
      "text/plain": [
       "array([  16.63933867,  104.32767172,  293.02336781,  578.86304587,\n",
       "        960.76856603, 1596.10202676, 2334.31028892, 3385.26502283,\n",
       "       4809.02430131, 7074.32909243])"
      ]
     },
     "execution_count": 63,
     "metadata": {},
     "output_type": "execute_result"
    }
   ],
   "source": [
    "Lam, mode = np.linalg.eig(np.matmul(np.linalg.inv(Mc), Kc))\n",
    "\n",
    "w = Lam**0.5\n",
    "freq = np.sort(w/(2*np.pi))\n",
    "freq"
   ]
  },
  {
   "cell_type": "code",
   "execution_count": 64,
   "id": "0052e536",
   "metadata": {},
   "outputs": [
    {
     "data": {
      "text/plain": [
       "array([ 16.63911372+0.j, 104.27554573+0.j, 291.97191457+0.j])"
      ]
     },
     "execution_count": 64,
     "metadata": {},
     "output_type": "execute_result"
    }
   ],
   "source": [
    "from Beam_roots import rootsGen\n",
    "\n",
    "Act = (1/(2*np.pi*L**2)) * ((E*I/(rho*A))**0.5) * np.flip(np.array(rootsGen(13)[-1]))**2\n",
    "Act"
   ]
  },
  {
   "cell_type": "code",
   "execution_count": 65,
   "id": "ddba2e1b",
   "metadata": {},
   "outputs": [
    {
     "name": "stdout",
     "output_type": "stream",
     "text": [
      "Actual Frequencies: [ 16.63911372+0.j 104.27554573+0.j 291.97191457+0.j]\n",
      "FEM Frequencies: [ 16.63933867 104.32767172 293.02336781]\n",
      "% Error: [-0.00135191+0.j -0.0499887 +0.j -0.36012136+0.j]\n"
     ]
    }
   ],
   "source": [
    "act_freq = Act\n",
    "fem_freq = []\n",
    "ind = 0\n",
    "for i in range(len(freq)):\n",
    "    fem_freq.append(freq[i])\n",
    "    ind = ind + 1\n",
    "    if ind==3:\n",
    "        break\n",
    "    \n",
    "act_freq = np.array(act_freq)\n",
    "fem_freq = np.array(fem_freq)\n",
    "\n",
    "print('Actual Frequencies:', act_freq)\n",
    "print('FEM Frequencies:', fem_freq)\n",
    "print('% Error:', (act_freq-fem_freq)*100/act_freq)"
   ]
  },
  {
   "cell_type": "markdown",
   "id": "1e45c689",
   "metadata": {},
   "source": [
    "# Plotting the Modes Shapes of a 1D Beam"
   ]
  },
  {
   "cell_type": "code",
   "execution_count": 66,
   "id": "ae1c9d84",
   "metadata": {},
   "outputs": [
    {
     "data": {
      "text/plain": [
       "<matplotlib.legend.Legend at 0x1ba97f009d0>"
      ]
     },
     "execution_count": 66,
     "metadata": {},
     "output_type": "execute_result"
    },
    {
     "data": {
      "image/png": "[encoded data removed]",
      "text/plain": [
       "<Figure size 640x480 with 1 Axes>"
      ]
     },
     "metadata": {},
     "output_type": "display_data"
    }
   ],
   "source": [
    "ModeNo = 1\n",
    "Multiplier = 1\n",
    "\n",
    "mm = []\n",
    "for j in range(len(mode.T)-1, -1, -1):\n",
    "    temp = []\n",
    "    for i in range(1, mode.T.shape[1]+1):\n",
    "        if i%2!=0:\n",
    "            temp.append(mode.T[j, i-1])\n",
    "    mm.append(temp)\n",
    "mm = np.matrix(mm)\n",
    "        \n",
    "x1 = [[0]]\n",
    "te = 0\n",
    "for i in range(mm.shape[1]):\n",
    "    te = te + le\n",
    "    x1.append([te])\n",
    "x1 = np.matrix(x1)\n",
    "\n",
    "x = [[0]]\n",
    "te = 0\n",
    "for i in range(mm.shape[1]):\n",
    "    te = te + ((le)**2 - (mm[ModeNo-1,i]*Multiplier)**2)**0.5\n",
    "    x.append([te])\n",
    "x = np.matrix(x)\n",
    "\n",
    "y = [[0]]\n",
    "te = 0\n",
    "for i in range(mm.shape[1]):\n",
    "    te = mm[ModeNo-1,i]*Multiplier\n",
    "    y.append([te])\n",
    "y = np.matrix(y)\n",
    "\n",
    "\n",
    "plt.plot(x, y, marker='o', color='tab:blue', markersize=10, label=f'Mode shape {ModeNo-1}, ({Multiplier}x Deflection)')\n",
    "\n",
    "\n",
    "plt.plot(x1, np.zeros([x1.size,1]), marker='o', color='tab:orange', label='Before Loading')\n",
    "plt.legend()"
   ]
  }
 ],
 "metadata": {
  "kernelspec": {
   "display_name": "Python 3 (ipykernel)",
   "language": "python",
   "name": "python3"
  },
  "language_info": {
   "codemirror_mode": {
    "name": "ipython",
    "version": 3
   },
   "file_extension": ".py",
   "mimetype": "text/x-python",
   "name": "python",
   "nbconvert_exporter": "python",
   "pygments_lexer": "ipython3",
   "version": "3.11.0"
  }
 },
 "nbformat": 4,
 "nbformat_minor": 5
}
