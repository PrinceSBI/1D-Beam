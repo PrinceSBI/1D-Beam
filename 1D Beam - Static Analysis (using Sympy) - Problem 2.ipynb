{
 "cells": [
  {
   "cell_type": "code",
   "execution_count": 1,
   "id": "71a25574",
   "metadata": {},
   "outputs": [],
   "source": [
    "import numpy as np\n",
    "from sympy import *\n",
    "from matplotlib import pyplot as plt"
   ]
  },
  {
   "cell_type": "markdown",
   "id": "a4e4ca8d",
   "metadata": {},
   "source": [
    "# 1D Beam Solution"
   ]
  },
  {
   "cell_type": "code",
   "execution_count": 2,
   "id": "c315a6df",
   "metadata": {},
   "outputs": [],
   "source": [
    "bc = 1  # constrain (or Boundary condition) at node 1\n",
    "E = 70000   # Youngs Modulus\n",
    "I = 300*40**3/12  # Area Moment of Inertia \n",
    "L = 1500  # Length of Bar\n",
    "F = 4000   # Force at the tip of Bar\n",
    "numElem = 2  # Number of Elements"
   ]
  },
  {
   "cell_type": "code",
   "execution_count": 3,
   "id": "5ffbb13b",
   "metadata": {},
   "outputs": [
    {
     "data": {
      "text/plain": [
       "[[1, 2], [2, 3]]"
      ]
     },
     "execution_count": 3,
     "metadata": {},
     "output_type": "execute_result"
    }
   ],
   "source": [
    "le = L/numElem\n",
    "\n",
    "elem = []\n",
    "for i in range(numElem):\n",
    "    elem.append([i+1,i+2])\n",
    "elem"
   ]
  },
  {
   "cell_type": "code",
   "execution_count": 4,
   "id": "9a5e2f05",
   "metadata": {},
   "outputs": [
    {
     "data": {
      "text/plain": [
       "(matrix([[4.71245672629921e-9*x**3 - 5.31209917300806e-6*x**2 + 1,\n",
       "          1.77069972433602e-6*x**3 - 0.00266135283217842*x**2 + 1.0*x,\n",
       "          -4.71245672629921e-9*x**3 + 5.31209917300806e-6*x**2,\n",
       "          1.77069972433602e-6*x**3 - 0.00133067641608921*x**2]],\n",
       "        dtype=object),\n",
       " matrix([[2.82747403577953e-8*x - 1.06241983460161e-5,\n",
       "          1.06241983460161e-5*x - 0.00532270566435683,\n",
       "          1.06241983460161e-5 - 2.82747403577953e-8*x,\n",
       "          1.06241983460161e-5*x - 0.00266135283217842]], dtype=object))"
      ]
     },
     "execution_count": 4,
     "metadata": {},
     "output_type": "execute_result"
    }
   ],
   "source": [
    "x = Symbol('x')\n",
    "Le = Symbol('Le')\n",
    "\n",
    "# Shape Function Matrix\n",
    "shape = np.matrix([\n",
    "    (2*(x/le)**3 - 3*(x/le)**2 + 1),\n",
    "    ((x/le)**3 - 2*(x/le)**2 + (x/le))*le,\n",
    "    (-2*(x/le)**3 + 3*(x/le)**2),\n",
    "    ((x/le)**3 - (x/le)**2)*le\n",
    "])\n",
    "\n",
    "# Differentiated Shape Function Matrix\n",
    "shape_d = []\n",
    "for i in range(shape.shape[1]):\n",
    "    shape_d.append(diff(diff(np.array(shape[0, i]).flatten()[0], x), x))\n",
    "\n",
    "shape = np.matrix(shape)\n",
    "shape_d = np.matrix(shape_d)\n",
    "\n",
    "shape, shape_d"
   ]
  },
  {
   "cell_type": "code",
   "execution_count": 5,
   "id": "70460b21",
   "metadata": {},
   "outputs": [
    {
     "data": {
      "text/plain": [
       "matrix([[Le*(2.66486980766912e-16*Le**2 - 3.00396449743324e-13*Le + 1.12873590495492e-10),\n",
       "         Le*(1.00132149914441e-13*Le**2 - 1.31685855578074e-10*Le + 5.65494807155905e-8),\n",
       "         Le*(-2.66486980766912e-16*Le**2 + 3.00396449743324e-13*Le - 1.12873590495492e-10),\n",
       "         Le*(1.00132149914441e-13*Le**2 - 9.40613254129098e-11*Le + 2.82747403577953e-8)],\n",
       "        [Le*(1.00132149914441e-13*Le**2 - 1.31685855578074e-10*Le + 5.65494807155905e-8),\n",
       "         Le*(3.76245301651639e-11*Le**2 - 5.65494807155905e-8*Le + 2.83311955893763e-5),\n",
       "         Le*(-1.00132149914441e-13*Le**2 + 1.31685855578074e-10*Le - 5.65494807155905e-8),\n",
       "         Le*(3.76245301651639e-11*Le**2 - 4.24121105366929e-8*Le + 1.41655977946882e-5)],\n",
       "        [Le*(-2.66486980766912e-16*Le**2 + 3.00396449743324e-13*Le - 1.12873590495492e-10),\n",
       "         Le*(-1.00132149914441e-13*Le**2 + 1.31685855578074e-10*Le - 5.65494807155905e-8),\n",
       "         Le*(2.66486980766912e-16*Le**2 - 3.00396449743324e-13*Le + 1.12873590495492e-10),\n",
       "         Le*(-1.00132149914441e-13*Le**2 + 9.40613254129098e-11*Le - 2.82747403577953e-8)],\n",
       "        [Le*(1.00132149914441e-13*Le**2 - 9.40613254129098e-11*Le + 2.82747403577953e-8),\n",
       "         Le*(3.76245301651639e-11*Le**2 - 4.24121105366929e-8*Le + 1.41655977946882e-5),\n",
       "         Le*(-1.00132149914441e-13*Le**2 + 9.40613254129098e-11*Le - 2.82747403577953e-8),\n",
       "         Le*(3.76245301651639e-11*Le**2 - 2.82747403577953e-8*Le + 7.08279889734408e-6)]],\n",
       "       dtype=object)"
      ]
     },
     "execution_count": 5,
     "metadata": {},
     "output_type": "execute_result"
    }
   ],
   "source": [
    "# Creating The Local Stiffness Matrix\n",
    "\n",
    "k = np.matmul(shape_d.T, shape_d)\n",
    "for i in range(k.shape[0]):\n",
    "    for j in range(k.shape[1]):\n",
    "        k[i,j] = simplify(integrate(k[i,j], x).subs(x, Le))\n",
    "k"
   ]
  },
  {
   "cell_type": "code",
   "execution_count": 6,
   "id": "a8f2e9d5",
   "metadata": {},
   "outputs": [],
   "source": [
    "K = np.zeros([2*len(elem)+2, 2*len(elem)+2])  # Creating initially zero matrix for global stiffness matrix\n",
    "\n",
    "for i in elem:\n",
    "    temp = k.copy()\n",
    "    for a in range(temp.shape[0]):\n",
    "        for j in range(temp.shape[1]):\n",
    "            temp[a,j] = temp[a,j].subs(Le, le)\n",
    "    K[2*i[0]-2:2*i[1], 2*i[0]-2:2*i[1]] = K[2*i[0]-2:2*i[1], 2*i[0]-2:2*i[1]] +  (E*I) * temp"
   ]
  },
  {
   "cell_type": "code",
   "execution_count": 7,
   "id": "8c44f2de",
   "metadata": {},
   "outputs": [],
   "source": [
    "def BC(K, bc):\n",
    "    newK = []\n",
    "    for i in range(len(K)):\n",
    "        temp = []\n",
    "        for j in range(len(K[0])):\n",
    "            if not(i==bc or j==bc or i==bc+1 or j==bc+1):\n",
    "                temp.append(K[i][j])\n",
    "        if temp != []:\n",
    "            newK.append(temp)\n",
    "    if newK != []:\n",
    "        return np.matrix(newK)\n",
    "    else:\n",
    "        return np.matrix(K)"
   ]
  },
  {
   "cell_type": "code",
   "execution_count": 8,
   "id": "2a76f369",
   "metadata": {},
   "outputs": [],
   "source": [
    "# Global Stiffness Matrix After Applying Boundary Conditions\n",
    "Kc = BC(K, bc-1)"
   ]
  },
  {
   "cell_type": "code",
   "execution_count": 9,
   "id": "876f72d3",
   "metadata": {},
   "outputs": [
    {
     "data": {
      "text/plain": [
       "array([[3955.],\n",
       "       [   0.],\n",
       "       [   0.],\n",
       "       [   0.]])"
      ]
     },
     "execution_count": 9,
     "metadata": {},
     "output_type": "execute_result"
    }
   ],
   "source": [
    "# Creating Force Vector\n",
    "f = np.zeros([len(Kc), 1])\n",
    "f[-4] = F\n",
    "f"
   ]
  },
  {
   "cell_type": "code",
   "execution_count": 10,
   "id": "ae6ddd57",
   "metadata": {},
   "outputs": [
    {
     "data": {
      "text/plain": [
       "matrix([[0.00000000e+00],\n",
       "        [0.00000000e+00],\n",
       "        [3.30224773e+00],\n",
       "        [6.59133477e-03],\n",
       "        [8.25561934e+00],\n",
       "        [6.59133477e-03]])"
      ]
     },
     "execution_count": 10,
     "metadata": {},
     "output_type": "execute_result"
    }
   ],
   "source": [
    "# Obtaining the Nodal Displacement Vector\n",
    "u = np.linalg.solve(Kc, f)\n",
    "u = list(u)\n",
    "u.insert(0, [0])\n",
    "u.insert(0, [0])\n",
    "u = np.matrix(u)\n",
    "u"
   ]
  },
  {
   "cell_type": "code",
   "execution_count": 11,
   "id": "f08792e2",
   "metadata": {},
   "outputs": [
    {
     "data": {
      "text/plain": [
       "matrix([[   -3955.        ],\n",
       "        [-2972172.61250012],\n",
       "        [    3955.        ],\n",
       "        [       0.        ],\n",
       "        [       0.        ],\n",
       "        [       0.        ]])"
      ]
     },
     "execution_count": 11,
     "metadata": {},
     "output_type": "execute_result"
    }
   ],
   "source": [
    "# Obtaining the Full force Vector including the Reaction Force\n",
    "Force = np.matmul(K, u)\n",
    "Force"
   ]
  },
  {
   "cell_type": "code",
   "execution_count": 12,
   "id": "a941fc7b",
   "metadata": {},
   "outputs": [
    {
     "data": {
      "text/plain": [
       "[matrix([[2.64274279543342e-19]], dtype=object), matrix([[0]], dtype=object)]"
      ]
     },
     "execution_count": 12,
     "metadata": {},
     "output_type": "execute_result"
    }
   ],
   "source": [
    "# Calculation the Strains using the nodal displacement vector\n",
    "strain = []\n",
    "for i in elem:\n",
    "    temp = []\n",
    "    for a in range(shape_d.size):\n",
    "        temp.append(shape_d[0,a].subs(x, Le).subs(Le, le))\n",
    "    temp = np.matrix(temp)   \n",
    "    strain.append(np.matmul(temp, u[2*i[0]-2:2*i[1], 0]))\n",
    "strain"
   ]
  },
  {
   "cell_type": "code",
   "execution_count": 13,
   "id": "e45398ea",
   "metadata": {},
   "outputs": [
    {
     "data": {
      "text/plain": [
       "array([[[4.25745325224793e-13]],\n",
       "\n",
       "       [[0]]], dtype=object)"
      ]
     },
     "execution_count": 13,
     "metadata": {},
     "output_type": "execute_result"
    }
   ],
   "source": [
    "# Calculation Stress\n",
    "y = 45.37/2\n",
    "stress = E * np.array(strain) * y\n",
    "stress"
   ]
  },
  {
   "cell_type": "code",
   "execution_count": 14,
   "id": "cfad3fe1",
   "metadata": {},
   "outputs": [
    {
     "name": "stdout",
     "output_type": "stream",
     "text": [
      "Hand Caluclation for Tip Deflection: 8.25561933635633\n",
      "FEM Tip Deflection: 8.255619336356796\n",
      "% Error: -5.637438851780626e-12\n"
     ]
    }
   ],
   "source": [
    "a = le\n",
    "# u_act = (F*L**3/(3*E*I))\n",
    "u_act = (F/(6*E*I))*a**2*(3*L-a)\n",
    "\n",
    "print('Hand Caluclation for Tip Deflection:', u_act)\n",
    "print('FEM Tip Deflection:', u[-2,0])\n",
    "print('% Error:', (u_act-u[-2,0])*100/u_act)"
   ]
  },
  {
   "cell_type": "code",
   "execution_count": 15,
   "id": "92f20426",
   "metadata": {},
   "outputs": [
    {
     "data": {
      "text/plain": [
       "<matplotlib.legend.Legend at 0x16ef0c80150>"
      ]
     },
     "execution_count": 15,
     "metadata": {},
     "output_type": "execute_result"
    },
    {
     "data": {
      "image/png": "[encoded data removed]",
      "text/plain": [
       "<Figure size 640x480 with 1 Axes>"
      ]
     },
     "metadata": {},
     "output_type": "display_data"
    }
   ],
   "source": [
    "Multiplier = 1\n",
    "\n",
    "uu = []\n",
    "for i in range(1, len(u)+1):\n",
    "    if i%2!=0:\n",
    "        uu.append([u[i-1, 0]])\n",
    "uu = np.matrix(uu)\n",
    "        \n",
    "x1 = [[0]]\n",
    "te = 0\n",
    "for i in range(len(uu)-1):\n",
    "    te = te + le\n",
    "    x1.append([te])\n",
    "x1 = np.matrix(x1)\n",
    "\n",
    "x = [[0]]\n",
    "te = 0\n",
    "for i in range(len(uu)-1):\n",
    "    te = te + ((le)**2 - (uu[i+1,0]*Multiplier)**2)**0.5\n",
    "    x.append([te])\n",
    "x = np.matrix(x)\n",
    "\n",
    "y = [[0]]\n",
    "te = 0\n",
    "for i in range(len(uu)-1):\n",
    "    te = uu[i+1,0]*Multiplier\n",
    "    y.append([te])\n",
    "y = np.matrix(y)\n",
    "\n",
    "\n",
    "plt.plot(x, y, marker='o', color='tab:blue', markersize=10, label=f'After Loading ({Multiplier}x Deflection)')\n",
    "ind = 0\n",
    "for i in zip(x,y):\n",
    "    plt.annotate('(%.4f)'% (uu[ind,0]), xy=i, xytext=(x[ind]-200,y[ind]+0.0005), color='tab:blue')\n",
    "    ind = ind+1\n",
    "\n",
    "plt.plot(x1, np.zeros([x1.size,1]), marker='o', color='tab:orange', label='Before Loading')\n",
    "plt.legend()"
   ]
  }
 ],
 "metadata": {
  "kernelspec": {
   "display_name": "Python 3 (ipykernel)",
   "language": "python",
   "name": "python3"
  },
  "language_info": {
   "codemirror_mode": {
    "name": "ipython",
    "version": 3
   },
   "file_extension": ".py",
   "mimetype": "text/x-python",
   "name": "python",
   "nbconvert_exporter": "python",
   "pygments_lexer": "ipython3",
   "version": "3.11.0"
  }
 },
 "nbformat": 4,
 "nbformat_minor": 5
}
